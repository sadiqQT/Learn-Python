{
 "nbformat": 4,
 "nbformat_minor": 2,
 "metadata": {
  "language_info": {
   "name": "python",
   "codemirror_mode": {
    "name": "ipython",
    "version": 3
   },
   "version": "3.6.0-final"
  },
  "orig_nbformat": 2,
  "file_extension": ".py",
  "mimetype": "text/x-python",
  "name": "python",
  "npconvert_exporter": "python",
  "pygments_lexer": "ipython3",
  "version": 3,
  "kernelspec": {
   "name": "python38132bitbf93342994054f0a9302b9f86faca8d3",
   "display_name": "Python 3.8.1 32-bit"
  }
 },
 "cells": [
  {
   "cell_type": "code",
   "execution_count": 13,
   "metadata": {},
   "outputs": [
    {
     "output_type": "stream",
     "name": "stdout",
     "text": "6\nNice! Program for learning Collection executed successfully!\n"
    }
   ],
   "source": [
    "# Collection : How to use List\n",
    "# Find the length of List's items . In other words, total number of items(data) in a List \n",
    "\n",
    "try:\n",
    "    Students = [\"Ahmed\", \"Amir\",\"Sadiq\", \"Ahmed\" , \"Hamza\" , \"Haris\"]\n",
    "    print( len(Students) )\n",
    "\n",
    "except Exception:\n",
    "    print(\"Sorry, program encounter an error\")\n",
    "finally:\n",
    "    print(\"Nice! Program for learning Collection executed successfully!\")\n",
    ""
   ]
  },
  {
   "cell_type": "code",
   "execution_count": 14,
   "metadata": {},
   "outputs": [
    {
     "output_type": "stream",
     "name": "stdout",
     "text": "['Ahmed', 'Amir', 'Sadiq', 'Ahmed', 'Hamza', 'Haris']\nNice! Program for learning Collection executed successfully!\n"
    }
   ],
   "source": [
    "# Collection : How to use List\n",
    "# Access/Read List item entirly\n",
    "# Did you notice repeated data in the list ? \n",
    "\n",
    "try:\n",
    "    Students = [\"Ahmed\", \"Amir\",\"Sadiq\", \"Ahmed\" , \"Hamza\" , \"Haris\"]\n",
    "    print(Students)\n",
    "\n",
    "except Exception:\n",
    "    print(\"Sorry, program encounter an error\")\n",
    "finally:\n",
    "    print(\"Nice! Program for learning Collection executed successfully!\")"
   ]
  },
  {
   "cell_type": "code",
   "execution_count": 15,
   "metadata": {},
   "outputs": [
    {
     "output_type": "stream",
     "name": "stdout",
     "text": "Item at Index 0 is Ahmed\nItem at Index 2 is Sadiq\nItem at Index 3 is Ahmed\nItem at LAST Index 5 is Haris\nNice! Program for learning Collection executed successfully!\n"
    }
   ],
   "source": [
    "# Collection : How to use List \n",
    "# Access List item at index 0\n",
    "\n",
    "try:\n",
    "    Students= [\"Ahmed\", \"Amir\",\"Sadiq\", \"Ahmed\" , \"Hamza\" , \"Haris\"]\n",
    "    print( f\"Item at Index 0 is {Students[0]}\" )\n",
    "    print( f\"Item at Index 2 is {Students[2]}\" )\n",
    "    print( f\"Item at Index 3 is {Students[3]}\" )\n",
    "    print( f\"Item at LAST Index 5 is {Students[5]}\" )\n",
    "\n",
    "except Exception:\n",
    "    print(\"Sorry, program encounter an error\")\n",
    "finally:\n",
    "    print(\"Nice! Program for learning Collection executed successfully!\")"
   ]
  },
  {
   "cell_type": "code",
   "execution_count": 16,
   "metadata": {},
   "outputs": [
    {
     "output_type": "stream",
     "name": "stdout",
     "text": "Sorry, program encounter an error\nNice! Program for learning Collection executed successfully!\n"
    }
   ],
   "source": [
    "# Collection : List\n",
    "# Access List item for specific Range \n",
    "# Error Occurs ? Why ?\n",
    "\n",
    "try:\n",
    "    Students= {\"Ahmed\", \"Amir\",\"Sadiq\", \"Ahmed\" , \"Hamza\" , \"Haris\"}\n",
    "    print(Students[1:3])\n",
    "\n",
    "except Exception:\n",
    "    print(\"Sorry, program encounter an error\")\n",
    "finally:\n",
    "    print(\"Nice! Program for learning Collection executed successfully!\")"
   ]
  },
  {
   "cell_type": "code",
   "execution_count": 17,
   "metadata": {},
   "outputs": [
    {
     "output_type": "stream",
     "name": "stdout",
     "text": "Start from Including index 0 till Excluding Index 3 = ['Amir', 'Sadiq']\nNice! Program for learning Collection executed successfully!\n"
    }
   ],
   "source": [
    "# Collection : List\n",
    "# Access List item for specific Range\n",
    "# use square bracket [] :)\n",
    "# [StartingIndex : ExcludingIndex]\n",
    "\n",
    "try:\n",
    "    Students= [\"Ahmed\", \"Amir\",\"Sadiq\", \"Ahmed\" , \"Hamza\" , \"Haris\"]\n",
    "    print(f\"Start from Including index 0 till Excluding Index 3 = {Students[1:3]}\")\n",
    "\n",
    "except Exception:\n",
    "    print(\"Sorry, program encounter an error\")\n",
    "finally:\n",
    "    print(\"Nice! Program for learning Collection executed successfully!\")"
   ]
  },
  {
   "cell_type": "code",
   "execution_count": 18,
   "metadata": {},
   "outputs": [
    {
     "output_type": "stream",
     "name": "stdout",
     "text": "Sorry, program encounter an error\nNice! Program for learning Collection executed successfully!\n"
    }
   ],
   "source": [
    "# Collection : List\n",
    "# Access List item for specific Range from begining\n",
    "# [ : ExcludingIndex] means begin with 0\n",
    "\n",
    "try:\n",
    "    Students= [\"Ahmed\", \"Amir\",\"Sadiq\", \"Ahmed\" , \"Hamza\" , \"Haris\"]\n",
    "    print(f\"Start from Including index 0 till Excluding Index 3 = {Students[:3]}\")\n",
    "\n",
    "except Exception:\n",
    "    print(\"Sorry, program encounter an error\")\n",
    "finally:\n",
    "    print(\"Nice! Program for learning Collection executed successfully!\")"
   ]
  },
  {
   "cell_type": "code",
   "execution_count": 19,
   "metadata": {},
   "outputs": [
    {
     "output_type": "stream",
     "name": "stdout",
     "text": "Start from Including index 1 till Last Index(End) = ['Amir', 'Sadiq', 'Ahmed', 'Hamza', 'Haris']\nNice! Program for learning Collection executed successfully!\n"
    }
   ],
   "source": [
    "# Collection : List\n",
    "# Access List item for specific Range till End\n",
    "# use square bracket [] :)\n",
    "# [StartingIndex : ] means till End \n",
    "\n",
    "try:\n",
    "    Students= [\"Ahmed\", \"Amir\",\"Sadiq\", \"Ahmed\" , \"Hamza\" , \"Haris\"]\n",
    "    print(f\"Start from Including index 1 till Last Index(End) = {Students[1:]}\")\n",
    "\n",
    "except Exception:\n",
    "    print(\"Sorry, program encounter an error\")\n",
    "finally:\n",
    "    print(\"Nice! Program for learning Collection executed successfully!\")"
   ]
  },
  {
   "cell_type": "code",
   "execution_count": 20,
   "metadata": {},
   "outputs": [
    {
     "output_type": "stream",
     "name": "stdout",
     "text": "Existing List's item is + ['Ahmed', 'Amir', 'Sadiq', 'Ahmed', 'Hamza', 'Haris']\nAfter using Append method, List grows. New List's items are ['Ahmed', 'Amir', 'Sadiq', 'Ahmed', 'Hamza', 'Haris', 'Saleem']\nNice! Program for learning Collection executed successfully!\n"
    }
   ],
   "source": [
    "# Collection : List\n",
    "# Add new item/element to a List\n",
    "# use append() method\n",
    "try:\n",
    "    Students= [\"Ahmed\", \"Amir\",\"Sadiq\", \"Ahmed\" , \"Hamza\" , \"Haris\"]\n",
    "    print(f\"Existing List's item is + {Students}\")\n",
    "    Students.append(\"Saleem\")\n",
    "    print(f\"After using Append method, List grows. New List's items are {Students}\")\n",
    "\n",
    "except Exception:\n",
    "    print(\"Sorry, program encounter an error\")\n",
    "finally:\n",
    "    print(\"Nice! Program for learning Collection executed successfully!\")"
   ]
  },
  {
   "cell_type": "code",
   "execution_count": 21,
   "metadata": {},
   "outputs": [
    {
     "output_type": "stream",
     "name": "stdout",
     "text": "Existing List's item is + ['Ahmed', 'Amir', 'Sadiq', 'Ahmed', 'Hamza', 'Haris']\nAfter using Append method, List grows. New List's items are ['Ahmed', 'Amir', 'Sadiq', 'Ahmed', 'Hamza', 'Haris', 'Saleem']\nNice! Program for learning Collection executed successfully!\n"
    }
   ],
   "source": [
    "# Collection : List\n",
    "# Add new item/element to a List\n",
    "# use append() method\n",
    "try:\n",
    "    Students= [\"Ahmed\", \"Amir\",\"Sadiq\", \"Ahmed\" , \"Hamza\" , \"Haris\"]\n",
    "    print(f\"Existing List's item is + {Students}\")\n",
    "    Students.append(\"Saleem\")\n",
    "    print(f\"After using Append method, List grows. New List's items are {Students}\")\n",
    "\n",
    "except Exception:\n",
    "    print(\"Sorry, program encounter an error\")\n",
    "finally:\n",
    "    print(\"Nice! Program for learning Collection executed successfully!\")"
   ]
  },
  {
   "cell_type": "code",
   "execution_count": 22,
   "metadata": {},
   "outputs": [
    {
     "output_type": "stream",
     "name": "stdout",
     "text": "Existing List's item is + ['Ahmed', 'Amir', 'Sadiq', 'Ahmed', 'Hamza', 'Haris']\nAfter using Add method, List grows. New List's items are ['Ahmed', 'Saleem', 'Amir', 'Sadiq', 'Ahmed', 'Hamza', 'Haris']\nNice! Program for learning Collection executed successfully!\n"
    }
   ],
   "source": [
    "# Collection : List\n",
    "# Add new item/element to a List at Specific Location\n",
    "# use insert() method\n",
    "\n",
    "try:\n",
    "    Students= [\"Ahmed\", \"Amir\",\"Sadiq\", \"Ahmed\" , \"Hamza\" , \"Haris\"]\n",
    "    print(f\"Existing List's item is + {Students}\")\n",
    "    Students.insert(1,\"Saleem\")\n",
    "    print(f\"After using Add method, List grows. New List's items are {Students}\")\n",
    "\n",
    "except Exception:\n",
    "    print(\"Sorry, program encounter an error\")\n",
    "finally:\n",
    "    print(\"Nice! Program for learning Collection executed successfully!\")"
   ]
  },
  {
   "cell_type": "code",
   "execution_count": 23,
   "metadata": {},
   "outputs": [
    {
     "output_type": "stream",
     "name": "stdout",
     "text": "Existing List's item is + ['Ahmed', 'Amir', 'Sadiq', 'Ahmed', 'Hamza', 'Haris', 'Noman']\nAfter using Pop method, List shrink. New List's items are ['Ahmed', 'Amir', 'Sadiq', 'Ahmed', 'Hamza', 'Haris']\nNice! Program for learning Collection executed successfully!\n"
    }
   ],
   "source": [
    "# Collection : List\n",
    "# Remove new item/element from an end of List\n",
    "# use pop() method \"opposite behaviour of append method\"\n",
    "try:\n",
    "    Students= [\"Ahmed\", \"Amir\",\"Sadiq\", \"Ahmed\" , \"Hamza\" , \"Haris\", \"Noman\"]\n",
    "    print(f\"Existing List's item is + {Students}\")\n",
    "    Students.pop()\n",
    "    print(f\"After using Pop method, List shrink. New List's items are {Students}\")\n",
    "\n",
    "except Exception:\n",
    "    print(\"Sorry, program encounter an error\")\n",
    "finally:\n",
    "    print(\"Nice! Program for learning Collection executed successfully!\")"
   ]
  },
  {
   "cell_type": "code",
   "execution_count": 24,
   "metadata": {},
   "outputs": [
    {
     "output_type": "stream",
     "name": "stdout",
     "text": "Existing List's item is + ['Ahmed', 'Amir', 'Sadiq', 'Ahmed', 'Hamza', 'Haris']\nAfter using Pop method, List shrink. New List's items are ['Amir', 'Sadiq', 'Ahmed', 'Hamza', 'Haris']\nNice! Program for learning Collection executed successfully!\n"
    }
   ],
   "source": [
    "# Collection : List\n",
    "# Remove new item/element from a specific position of List\n",
    "# use remove() method \"opposite behaviour of insert method\"\n",
    "# Did you notice something ? \n",
    "\n",
    "try:\n",
    "    Students= [\"Ahmed\", \"Amir\",\"Sadiq\", \"Ahmed\" , \"Hamza\" , \"Haris\"]\n",
    "    print(f\"Existing List's item is + {Students}\")\n",
    "    Students.remove(\"Ahmed\")\n",
    "    print(f\"After using Pop method, List shrink. New List's items are {Students}\")\n",
    "\n",
    "except Exception:\n",
    "    print(\"Sorry, program encounter an error\")\n",
    "finally:\n",
    "    print(\"Nice! Program for learning Collection executed successfully!\")"
   ]
  },
  {
   "cell_type": "code",
   "execution_count": 25,
   "metadata": {},
   "outputs": [
    {
     "output_type": "stream",
     "name": "stdout",
     "text": "Mix Data Type in a List + ['Ahmed', 'Amir', 'Sadiq', 'Ahmed', 'Hamza', 'Haris', 123]\nNice! Program for learning Collection executed successfully!\n"
    }
   ],
   "source": [
    "# Collection : List\n",
    "# Mix Data Types in a List\n",
    " \n",
    "try:\n",
    "    Students= [\"Ahmed\", \"Amir\",\"Sadiq\", \"Ahmed\" , \"Hamza\" , \"Haris\" , 123]\n",
    "    print(f\"Mix Data Type in a List + {Students}\")\n",
    "\n",
    "except Exception:\n",
    "    print(\"Sorry, program encounter an error\")\n",
    "finally:\n",
    "    print(\"Nice! Program for learning Collection executed successfully!\")"
   ]
  },
  {
   "cell_type": "code",
   "execution_count": 26,
   "metadata": {},
   "outputs": [
    {
     "output_type": "stream",
     "name": "stdout",
     "text": "Existing List's item is + ['Ahmed', 'Amir', 'Sadiq', 'Ahmed', 'Hamza', 'Haris']\nAfter using Pop method, List shrink. New List's items are ['Ahmed', 'Amir', 'Sadiq', 'Hamza', 'Haris']\nNice! Program for learning Collection executed successfully!\n"
    }
   ],
   "source": [
    "# Collection : List\n",
    "# Remove new item/element from a specific position of List\n",
    "# use del() function \"opposite behaviour of insert method\"\n",
    "\n",
    "try:\n",
    "    Students= [\"Ahmed\", \"Amir\",\"Sadiq\", \"Ahmed\" , \"Hamza\" , \"Haris\"]\n",
    "    print(f\"Existing List's item is + {Students}\")\n",
    "    del Students[3]\n",
    "    print(f\"After using Pop method, List shrink. New List's items are {Students}\")\n",
    "\n",
    "except Exception:\n",
    "    print(\"Sorry, program encounter an error\")\n",
    "finally:\n",
    "    print(\"Nice! Program for learning Collection executed successfully!\")"
   ]
  },
  {
   "cell_type": "code",
   "execution_count": null,
   "metadata": {},
   "outputs": [],
   "source": []
  }
 ]
}