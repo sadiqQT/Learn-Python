{
 "nbformat": 4,
 "nbformat_minor": 2,
 "metadata": {
  "language_info": {
   "name": "python",
   "codemirror_mode": {
    "name": "ipython",
    "version": 3
   },
   "version": "3.8.1-final"
  },
  "orig_nbformat": 2,
  "file_extension": ".py",
  "mimetype": "text/x-python",
  "name": "python",
  "npconvert_exporter": "python",
  "pygments_lexer": "ipython3",
  "version": 3,
  "kernelspec": {
   "name": "python38132bitbf93342994054f0a9302b9f86faca8d3",
   "display_name": "Python 3.8.1 32-bit"
  }
 },
 "cells": [
  {
   "cell_type": "code",
   "execution_count": 10,
   "metadata": {},
   "outputs": [
    {
     "name": "stdout",
     "output_type": "stream",
     "text": "both 5 and 10 variables have different value\nnoticed i'm also the part of else condition block !\nFinaly Test for condional logic executed successfully!\n"
    }
   ],
   "source": [
    "# ctrl +shift + P\n",
    "# In this program we are learning if - else condition by using equal operator ==\n",
    "x = 5\n",
    "y = 10\n",
    "try:\n",
    "    if x == y:\n",
    "        print(f\"1st integer variable {x} has same value as 2nd integer variable {y}\")\n",
    "        print(\"this line is also a part of if condition block !\")\n",
    "    else:\n",
    "        print(f\"both {x} and {y} variables have different value\")\n",
    "        print(\"noticed i'm also the part of else condition block !\")\n",
    "\n",
    "except Exception:\n",
    "    print(\"Exception error occured\")\n",
    "finally:\n",
    "    print(\"Finaly Test for condional logic executed successfully!\")"
   ]
  },
  {
   "cell_type": "code",
   "execution_count": 7,
   "metadata": {},
   "outputs": [
    {
     "name": "stdout",
     "output_type": "stream",
     "text": "Add 200 to 1st integer variable =  205\nnoticed i'm also the part of else condition block !\nTest for condional logic executed successfully!\n"
    }
   ],
   "source": [
    "# In this program we are learning if - else condition by using equal operator ==\n",
    "x = 5\n",
    "y = 10\n",
    "try:\n",
    "    if x == y:\n",
    "        x = x + 100\n",
    "        print(f\"Add 100 to 1st integer variable than x becomes =  {x}\")\n",
    "        print(\"this line is also a part of if condition block !\")\n",
    "    else:\n",
    "        x = x + 200\n",
    "        print(f\"Add 200 to 1st integer variable than x becomes =  {x}\")\n",
    "        print(\"noticed i'm also the part of else condition block !\")\n",
    "\n",
    "except Exception:\n",
    "    print(\"Exception error occured\")\n",
    "finally:\n",
    "    print(\"Finaly Test for condional logic executed successfully!\")"
   ]
  },
  {
   "cell_type": "code",
   "execution_count": 11,
   "metadata": {},
   "outputs": [
    {
     "name": "stdout",
     "output_type": "stream",
     "text": "Add 100 to 1st integer variable than x becomes =  105\nthis line is also a part of if condition block !\nFinaly Test for condional logic executed successfully!\n"
    }
   ],
   "source": [
    "# In this program we are learning if - else condition by using equal operator == and logical OR operator\n",
    "x = 5\n",
    "y = 10\n",
    "try:\n",
    "    if x < y or x != y :\n",
    "        x = x + 100\n",
    "        print(f\"Add 100 to 1st integer variable than x becomes =  {x}\")\n",
    "        print(\"this line is also a part of if condition block !\")\n",
    "    else:\n",
    "        x = x + 200\n",
    "        print(f\"Add 200 to 1st integer variable than x becomes =  {x}\")\n",
    "        print(\"noticed i'm also the part of else condition block !\")\n",
    "\n",
    "except Exception:\n",
    "    print(\"Exception error occured\")\n",
    "finally:\n",
    "    print(\"Finaly Test for condional logic executed successfully!\")"
   ]
  },
  {
   "cell_type": "code",
   "execution_count": 13,
   "metadata": {},
   "outputs": [
    {
     "name": "stdout",
     "output_type": "stream",
     "text": "Add 100 to 1st integer variable than x becomes =  205\nthis line is also a part of if condition block !\nFinaly Test for condional logic executed successfully!\n"
    }
   ],
   "source": [
    "# In this program we are learning if - else condition by using equal operator == and logical OR operator\n",
    "x = 5\n",
    "y = 10\n",
    "try:\n",
    "    if x > y :\n",
    "        x = x + 100\n",
    "        print(f\"Add 100 to 1st integer variable than x becomes =  {x}\")\n",
    "        print(\"this line is also a part of if condition block !\")\n",
    "    elif x != y :\n",
    "        x = x + 200\n",
    "        print(f\"Add 100 to 1st integer variable than x becomes =  {x}\")\n",
    "        print(\"this line is also a part of if condition block !\")    \n",
    "    else:\n",
    "        x = x + 300\n",
    "        print(f\"Add 200 to 1st integer variable than x becomes =  {x}\")\n",
    "        print(\"noticed i'm also the part of else condition block !\")\n",
    "\n",
    "except Exception:\n",
    "    print(\"Exception error occured\")\n",
    "finally:\n",
    "    print(\"Finaly Test for condional logic executed successfully!\")"
   ]
  },
  {
   "cell_type": "code",
   "execution_count": null,
   "metadata": {},
   "outputs": [],
   "source": []
  }
 ]
}