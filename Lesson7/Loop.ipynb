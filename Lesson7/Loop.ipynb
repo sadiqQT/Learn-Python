{
 "cells": [
  {
   "cell_type": "code",
   "execution_count": 1,
   "metadata": {},
   "outputs": [
    {
     "output_type": "stream",
     "name": "stdout",
     "text": "Ahmed\nAmir\nSadiq\nAhmed\nHumza\nHaris\nNice! Program for learning Collection executed successfully!\n"
    }
   ],
   "source": [
    "# Loop : Need behind Loop  \n",
    "# Print every element/item in a list\n",
    "try:\n",
    "    Students = [\"Ahmed\", \"Amir\",\"Sadiq\", \"Ahmed\" , \"Humza\" , \"Haris\"]\n",
    "\n",
    "    print(\"Let's print everything !\")\n",
    "    print( Students[0] )\n",
    "    print( Students[1] )\n",
    "    print( Students[2] )\n",
    "    print( Students[3] )\n",
    "    print( Students[4] )\n",
    "    print( Students[5] )\n",
    "\n",
    "except Exception:\n",
    "    print(\"Sorry, program encounter an error\")\n",
    "finally:\n",
    "    print(\"Nice! Program for learning Collection executed successfully!\")"
   ]
  },
  {
   "cell_type": "code",
   "execution_count": 19,
   "metadata": {},
   "outputs": [
    {
     "output_type": "stream",
     "name": "stdout",
     "text": "Let's print everything !\nAhmed\nAmir\nSadiq\nAhmed\nHumza\nHaris\nYusra\nDaniya\nNice! Program for learning Collection executed successfully!\n"
    }
   ],
   "source": [
    "# Loop : For Loop \n",
    "# Print every element/item in a list\n",
    "try:\n",
    "    # Students collection has student name's list\n",
    "    Students = [\"Ahmed\", \"Amir\",\"Sadiq\", \"Ahmed\" , \"Humza\" , \"Haris\", \"Yusra\", \"Daniya\"]\n",
    "\n",
    "    print(\"Let's print everything !\")\n",
    "    \n",
    "    for student in Students:\n",
    "        print( student )\n",
    "\n",
    "except Exception:\n",
    "    print(\"Sorry, program encounter an error\")\n",
    "finally:\n",
    "    print(\"Nice! Program for learning Collection executed successfully!\")"
   ]
  },
  {
   "cell_type": "code",
   "execution_count": null,
   "metadata": {},
   "outputs": [],
   "source": []
  },
  {
   "cell_type": "code",
   "execution_count": 18,
   "metadata": {},
   "outputs": [
    {
     "output_type": "stream",
     "name": "stdout",
     "text": "Let's print everything !\nAt index = 0 , the value is Daniya\nAt index = 1 , the value is Daniya\nAt index = 2 , the value is Daniya\nAt index = 3 , the value is Daniya\nAt index = 4 , the value is Daniya\nAt index = 5 , the value is Daniya\nNice! Program for learning Collection executed successfully!\n"
    }
   ],
   "source": [
    "# Loop : while loop  \n",
    "# Print every element/item in a list\n",
    "# Note: to increment any number variable, let's say by 3 , either one can write \n",
    "# myNumber = myNumber + 3 or myNumber += 3\n",
    "\n",
    "# How to fix the logical bug in this program?\n",
    "\n",
    "try:\n",
    "    Students = [\"Ahmed\", \"Amir\",\"Sadiq\", \"Ahmed\" , \"Humza\" , \"Haris\", \"Yusra\", \"Daniya\"]\n",
    "\n",
    "    print(\"Let's print everything !\")\n",
    "    \n",
    "    index = 0\n",
    "    while index < 6:\n",
    "        print(f\"At index = {index} , the value is {student}\" )\n",
    "        index = index + 1 # or index += 1\n",
    "\n",
    "except Exception:\n",
    "    print(\"Sorry, program encounter an error\")\n",
    "finally:\n",
    "    print(\"Nice! Program for learning Collection executed successfully!\")"
   ]
  },
  {
   "cell_type": "code",
   "execution_count": 20,
   "metadata": {},
   "outputs": [
    {
     "output_type": "stream",
     "name": "stdout",
     "text": "Let's print everything !\nAt index = 0 , the value is Ahmed\nAt index = 1 , the value is Amir\nAt index = 2 , the value is Sadiq\nAt index = 3 , the value is Ahmed\nAt index = 4 , the value is Humza\nAt index = 5 , the value is Haris\nAt index = 6 , the value is Yusra\nNice! Program for learning Collection executed successfully!\n"
    }
   ],
   "source": [
    "# Loop : while loop  \n",
    "# Print every element/item in a list\n",
    "# Note: to increment any number variable, let's say by 3 , either one can write \n",
    "# myNumber = myNumber + 3 or myNumber += 3\n",
    "\n",
    "try:\n",
    "    Students = [\"Ahmed\", \"Amir\",\"Sadiq\", \"Ahmed\" , \"Humza\" , \"Haris\", \"Yusra\", \"Daniya\"]\n",
    "\n",
    "    print(\"Let's print everything !\")\n",
    "    \n",
    "    index = 0\n",
    "    while index < 8:\n",
    "        print(f\"At index = {index} , the value is {Students[index]}\" )\n",
    "        index = index + 1 # or index += 1\n",
    "\n",
    "except Exception:\n",
    "    print(\"Sorry, program encounter an error\")\n",
    "finally:\n",
    "    print(\"Nice! Program for learning Collection executed successfully!\")"
   ]
  },
  {
   "cell_type": "code",
   "execution_count": 23,
   "metadata": {},
   "outputs": [
    {
     "output_type": "stream",
     "name": "stdout",
     "text": "Let's print everything !\nAt index = 0 , the value is Ahmed\nAt index = 1 , the value is Amir\nAt index = 2 , the value is Sadiq\nAt index = 3 , the value is Ahmed\nAt index = 4 , the value is Humza\nAt index = 5 , the value is Haris\nAt index = 6 , the value is Yusra\nAt index = 7 , the value is Daniya\nNice! Program for learning Collection executed successfully!\n"
    }
   ],
   "source": [
    "# Loop : while loop  \n",
    "# Print every element/item in a list\n",
    "# Instead of hardcoding number 8 , use the len function to find the size of a collection\n",
    "# Note: to increment any number variable, let's say by 3 , either one can write \n",
    "# myNumber = myNumber + 3 or myNumber += 3\n",
    "\n",
    "try:\n",
    "    Students = [\"Ahmed\", \"Amir\",\"Sadiq\", \"Ahmed\" , \"Humza\" , \"Haris\", \"Yusra\", \"Daniya\"]\n",
    "\n",
    "    print(\"Let's print everything !\")\n",
    "    \n",
    "    index = 0\n",
    "    while index < len(Students):\n",
    "        print(f\"At index = {index} , the value is {Students[index]}\" )\n",
    "        index +=  1 # or index = index + 1\n",
    "\n",
    "except Exception:\n",
    "    print(\"Sorry, program encounter an error\")\n",
    "finally:\n",
    "    print(\"Nice! Program for learning Collection executed successfully!\")"
   ]
  },
  {
   "cell_type": "code",
   "execution_count": 7,
   "metadata": {},
   "outputs": [
    {
     "output_type": "stream",
     "name": "stdout",
     "text": "Let's print everything !\nAt index = 0 , the value is H\nAt index = 1 , the value is a\nAt index = 2 , the value is r\nAt index = 3 , the value is i\nAt index = 4 , the value is s\nSorry, program encounter an error\nNice! Program for learning Collection executed successfully!\n"
    }
   ],
   "source": [
    "# Loop : while loop  \n",
    "# Print every element/item in a list\n",
    "# Note: to increment any number variable, let's say by 3 , either one can write \n",
    "# myNumber = myNumber + 3 or myNumber += 3\n",
    "\n",
    "# Any guess what is happening here in this program ?\n",
    "# Confuse ? That's the Good thing :) \n",
    "\n",
    "try:\n",
    "    Students = [\"Ahmed\", \"Amir\",\"Sadiq\", \"Ahmed\" , \"Humza\" , \"Haris\"]\n",
    "\n",
    "    print(\"Let's print everything !\")\n",
    "    \n",
    "    index = 0\n",
    "    while index < len(Students):\n",
    "        print(f\"At index = {index} , the value is {student[index]}\" )\n",
    "        index = index + 1 # or index += 1\n",
    "\n",
    "except Exception:\n",
    "    print(\"Sorry, program encounter an error\")\n",
    "finally:\n",
    "    print(\"Nice! Program for learning Collection executed successfully!\")"
   ]
  },
  {
   "cell_type": "code",
   "execution_count": 26,
   "metadata": {},
   "outputs": [
    {
     "output_type": "stream",
     "name": "stdout",
     "text": "Let's print everything !\nH\na\nr\ni\ns\nNice! Program for learning Collection executed successfully!\n"
    }
   ],
   "source": [
    "# Loop : for  loop  \n",
    "# Print every element/item in a string variable\n",
    "# Note: a single string can be understand as a collection of charaters\n",
    "\n",
    "try:\n",
    "    #regular string variable\n",
    "    student = \"Haris\"\n",
    "\n",
    "    print(\"Let's print everything !\")\n",
    "    \n",
    "    for charater in student:\n",
    "        print (charater)\n",
    "\n",
    "except Exception:\n",
    "    print(\"Sorry, program encounter an error\")\n",
    "finally:\n",
    "    print(\"Nice! Program for learning Collection executed successfully!\")"
   ]
  },
  {
   "cell_type": "code",
   "execution_count": 27,
   "metadata": {},
   "outputs": [
    {
     "output_type": "stream",
     "name": "stdout",
     "text": "Let's print everything !\nAhmed\nAmir\nNice! Program for learning Collection executed successfully!\n"
    }
   ],
   "source": [
    "# Loop : For Loop \n",
    "# Break keyword : it stop the further execution of loop\n",
    "# Print every element/item in a list Till the condition meet\n",
    "\n",
    "try:\n",
    "    Students = [\"Ahmed\", \"Amir\",\"Sadiq\", \"Ahmed\" , \"Humza\" , \"Haris\"]\n",
    "\n",
    "    print(\"Let's print everything !\")\n",
    "    \n",
    "    for student in Students:\n",
    "        if student == \"Sadiq\":\n",
    "            break\n",
    "        print( student )\n",
    "\n",
    "except Exception:\n",
    "    print(\"Sorry, program encounter an error\")\n",
    "finally:\n",
    "    print(\"Nice! Program for learning Collection executed successfully!\")"
   ]
  },
  {
   "cell_type": "code",
   "execution_count": 10,
   "metadata": {},
   "outputs": [
    {
     "output_type": "stream",
     "name": "stdout",
     "text": "Let's print everything !\nAhmed\nAmir\nOops! data is wrong! my mistake non-student name appears. Let's skip to print !\nAhmed\nHumza\nHaris\nNice! Program for learning Collection executed successfully!\n"
    }
   ],
   "source": [
    "# Loop : For Loop \n",
    "# Continue keyword : it helps to skip current iteration\n",
    "# Print every element/item in a list and skip the current iteration when the condition meet\n",
    "\n",
    "try:\n",
    "    Students = [\"Ahmed\", \"Amir\",\"Sadiq\", \"Ahmed\" , \"Humza\" , \"Haris\"]\n",
    "\n",
    "    print(\"Let's print everything !\")\n",
    "    \n",
    "    for student in Students:\n",
    "        if student == \"Sadiq\":\n",
    "            print(\"Oops! data is wrong! By mistake non-student name appears. Let's skip to print !\")\n",
    "            continue\n",
    "        print( student )\n",
    "\n",
    "except Exception:\n",
    "    print(\"Sorry, program encounter an error\")\n",
    "finally:\n",
    "    print(\"Nice! Program for learning Collection executed successfully!\")"
   ]
  },
  {
   "cell_type": "code",
   "execution_count": null,
   "metadata": {},
   "outputs": [],
   "source": []
  }
 ],
 "metadata": {
  "language_info": {
   "name": "python",
   "codemirror_mode": {
    "name": "ipython",
    "version": 3
   },
   "version": "3.6.0-final"
  },
  "orig_nbformat": 2,
  "file_extension": ".py",
  "mimetype": "text/x-python",
  "name": "python",
  "npconvert_exporter": "python",
  "pygments_lexer": "ipython3",
  "version": 3,
  "kernelspec": {
   "name": "python38132bitbf93342994054f0a9302b9f86faca8d3",
   "display_name": "Python 3.8.1 32-bit"
  }
 },
 "nbformat": 4,
 "nbformat_minor": 2
}